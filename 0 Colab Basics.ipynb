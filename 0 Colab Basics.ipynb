{
 "cells": [
  {
   "cell_type": "markdown",
   "metadata": {
    "colab_type": "text",
    "id": "DcERPFl940Lt"
   },
   "source": [
    "\n",
    "To open notebook in Colab please click below:\n",
    "\n",
    "<a href=\"https://colab.research.google.com/github/bwolfson2/foster_2021/blob/master/Module0_Basics/Colab%20Basics.ipynb\" target=\"_parent\"> <img src=\"https://colab.research.google.com/assets/colab-badge.svg\" alt=\"Open In Colab\" /> </a>'\n",
    "\n",
    "\n",
    "# Colab Basics\n",
    "Welcome to Colab, Google's Python computing environment! \n",
    "\n",
    "\n",
    "# Getting Started\n",
    "\n",
    "Google provides many of useful Colab tutorials (some of which are below). But first -- it is super important to save your notebook to your Google Drive, so that you do not lose your work. Here is how you save your files:\n",
    "\n",
    "#### 1. Click \"File\" in the top left corner and \"Save to Google Drive\"\n",
    "If prompted login to your stern account and grant Colab permission to run (this is an automated \"click-through\" no thought process). \n",
    "\n",
    "![alt text](https://drive.google.com/uc?id=1Mrwssr13AHYIkwCMbNc0WDp6hig7Tj1b)\n",
    "\n",
    "#### 2. The notebook will open in a new tab with a google logo (you can now remove the \"Copy of\" from the name if you'd like)\n",
    "\n",
    "![alt_text](https://drive.google.com/uc?id=13qXvZNWZrcwwjXJYBfrwcXCEqDBsGBSQ)\n",
    "\n",
    "#### 3. That's it, now it's in your drive \n",
    "\n",
    "\n",
    "\n",
    "![alt text](https://drive.google.com/uc?id=1x7wcYKENv2WO0BH7sf1yV2HY1t3U83GD)\n",
    "\n",
    "![alt text](https://drive.google.com/uc?id=1X1HQVBztTzdKtAOYQqsZWrMDQ7MGcSUB)\n",
    "\n",
    "# Using Colab\n",
    "\n",
    "## SAVE EVERY NOTEBOOK ON YOUR GOOGLE DRIVE AS SOON AS YOU OPEN IT!\n",
    " \n",
    "\n",
    "Sometimes, it's important to defer to your betters. Here are three links to people (if corporations are people) that have explained the basics of Colab better than I could.\n",
    "\n",
    "#### 1. [Overview of Colab](https://colab.research.google.com/notebooks/intro.ipynb)\n",
    "\n",
    "There are links at the bottom of this notebook to more resources\n",
    "\n",
    "#### 2. [Colab Notebooks and how to use them](https://colab.research.google.com/notebooks/basic_features_overview.ipynb) \n",
    "\n",
    "#### 3. [An excellent intro to Python in Colab](http://becomingvisual.com/python4data/basics.html)\n",
    "\n",
    "\n",
    "## Downloading a Notebook -- Necessary for submitting homework\n",
    "\n",
    "\n",
    "Downloading a Colab Notebook is easy, just click \"File\" and then \"Download .ipnyb\":\n",
    "\n",
    "![alt text](https://drive.google.com/uc?id=1Tum_SLoaV2DPMduTosFagAoBtLj1Uvjz)"
   ]
  }
 ],
 "metadata": {
  "colab": {
   "collapsed_sections": [],
   "name": "Colab Basics.ipynb",
   "provenance": []
  },
  "kernelspec": {
   "display_name": "Python 3",
   "language": "python",
   "name": "python3"
  },
  "language_info": {
   "codemirror_mode": {
    "name": "ipython",
    "version": 3
   },
   "file_extension": ".py",
   "mimetype": "text/x-python",
   "name": "python",
   "nbconvert_exporter": "python",
   "pygments_lexer": "ipython3",
   "version": "3.8.5"
  },
  "latex_envs": {
   "LaTeX_envs_menu_present": true,
   "autoclose": false,
   "autocomplete": true,
   "bibliofile": "biblio.bib",
   "cite_by": "apalike",
   "current_citInitial": 1,
   "eqLabelWithNumbers": true,
   "eqNumInitial": 1,
   "hotkeys": {
    "equation": "Ctrl-E",
    "itemize": "Ctrl-I"
   },
   "labels_anchors": false,
   "latex_user_defs": false,
   "report_style_numbering": false,
   "user_envs_cfg": false
  },
  "toc": {
   "base_numbering": 1,
   "nav_menu": {},
   "number_sections": true,
   "sideBar": true,
   "skip_h1_title": false,
   "title_cell": "Table of Contents",
   "title_sidebar": "Contents",
   "toc_cell": false,
   "toc_position": {},
   "toc_section_display": true,
   "toc_window_display": false
  },
  "varInspector": {
   "cols": {
    "lenName": 16,
    "lenType": 16,
    "lenVar": 40
   },
   "kernels_config": {
    "python": {
     "delete_cmd_postfix": "",
     "delete_cmd_prefix": "del ",
     "library": "var_list.py",
     "varRefreshCmd": "print(var_dic_list())"
    },
    "r": {
     "delete_cmd_postfix": ") ",
     "delete_cmd_prefix": "rm(",
     "library": "var_list.r",
     "varRefreshCmd": "cat(var_dic_list()) "
    }
   },
   "types_to_exclude": [
    "module",
    "function",
    "builtin_function_or_method",
    "instance",
    "_Feature"
   ],
   "window_display": false
  }
 },
 "nbformat": 4,
 "nbformat_minor": 1
}
