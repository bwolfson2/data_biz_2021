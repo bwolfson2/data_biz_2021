{
  "nbformat": 4,
  "nbformat_minor": 5,
  "metadata": {
    "kernelspec": {
      "display_name": "Python 3",
      "language": "python",
      "name": "python3"
    },
    "language_info": {
      "codemirror_mode": {
        "name": "ipython",
        "version": 3
      },
      "file_extension": ".py",
      "mimetype": "text/x-python",
      "name": "python",
      "nbconvert_exporter": "python",
      "pygments_lexer": "ipython3",
      "version": "3.8.5"
    },
    "latex_envs": {
      "LaTeX_envs_menu_present": true,
      "autoclose": false,
      "autocomplete": true,
      "bibliofile": "biblio.bib",
      "cite_by": "apalike",
      "current_citInitial": 1,
      "eqLabelWithNumbers": true,
      "eqNumInitial": 1,
      "hotkeys": {
        "equation": "Ctrl-E",
        "itemize": "Ctrl-I"
      },
      "labels_anchors": false,
      "latex_user_defs": false,
      "report_style_numbering": false,
      "user_envs_cfg": false
    },
    "toc": {
      "base_numbering": 1,
      "nav_menu": {},
      "number_sections": true,
      "sideBar": true,
      "skip_h1_title": false,
      "title_cell": "Table of Contents",
      "title_sidebar": "Contents",
      "toc_cell": false,
      "toc_position": {},
      "toc_section_display": true,
      "toc_window_display": false
    },
    "varInspector": {
      "cols": {
        "lenName": 16,
        "lenType": 16,
        "lenVar": 40
      },
      "kernels_config": {
        "python": {
          "delete_cmd_postfix": "",
          "delete_cmd_prefix": "del ",
          "library": "var_list.py",
          "varRefreshCmd": "print(var_dic_list())"
        },
        "r": {
          "delete_cmd_postfix": ") ",
          "delete_cmd_prefix": "rm(",
          "library": "var_list.r",
          "varRefreshCmd": "cat(var_dic_list()) "
        }
      },
      "types_to_exclude": [
        "module",
        "function",
        "builtin_function_or_method",
        "instance",
        "_Feature"
      ],
      "window_display": false
    },
    "colab": {
      "name": "NaiveBayes.ipynb",
      "provenance": []
    }
  },
  "cells": [
    {
      "cell_type": "markdown",
      "metadata": {
        "id": "broadband-duration"
      },
      "source": [
        "# Naive Bayes for classification\n",
        "\n",
        "\n",
        "Spring 2021 - Instructors: Roger Stein and Ben Wolfson\n",
        "\n",
        "Teaching Assistant: Ben Wolfson\n",
        "***"
      ],
      "id": "broadband-duration"
    },
    {
      "cell_type": "markdown",
      "metadata": {
        "id": "F3PUQ9U-xcEu"
      },
      "source": [
        "To open notebook in Colab please click below:\n",
        "\n",
        "<a href=\"https://colab.research.google.com/github/bwolfson2/data_biz_2021/blob/main/Module_6_NaiveBayes/NaiveBayes.ipynb\" target=\"_parent\"> <img src=\"https://colab.research.google.com/assets/colab-badge.svg\" alt=\"Open In Colab\" /> </a>'"
      ],
      "id": "F3PUQ9U-xcEu"
    },
    {
      "cell_type": "code",
      "metadata": {
        "colab": {
          "base_uri": "https://localhost:8080/"
        },
        "id": "aExeBSoxwyQf",
        "outputId": "def6236b-ece7-4756-bb57-79051271a27c"
      },
      "source": [
        "#If opening in colab run this cell\n",
        "!git clone https://github.com/bwolfson2/foster_2021\n",
        "%cd foster_2021/Module2_Supervised/"
      ],
      "id": "aExeBSoxwyQf",
      "execution_count": 5,
      "outputs": [
        {
          "output_type": "stream",
          "text": [
            "Cloning into 'foster_2021'...\n",
            "remote: Enumerating objects: 656, done.\u001b[K\n",
            "remote: Counting objects: 100% (547/547), done.\u001b[K\n",
            "remote: Compressing objects: 100% (406/406), done.\u001b[K\n",
            "remote: Total 656 (delta 278), reused 383 (delta 130), pack-reused 109\u001b[K\n",
            "Receiving objects: 100% (656/656), 68.68 MiB | 20.31 MiB/s, done.\n",
            "Resolving deltas: 100% (317/317), done.\n",
            "Checking out files: 100% (131/131), done.\n",
            "/content/foster_2021/Module2_Supervised\n"
          ],
          "name": "stdout"
        }
      ]
    },
    {
      "cell_type": "markdown",
      "metadata": {
        "id": "signed-illustration"
      },
      "source": [
        "In this short notebook, we will explore how Naive Bayes (NB) classifier works.  It will also give us a chance to review some of the other tools and techniques we have been studying.\n",
        "\n",
        "We begin, as ususal with housekeeping and `import`ing the libraries we will be using."
      ],
      "id": "signed-illustration"
    },
    {
      "cell_type": "code",
      "metadata": {
        "id": "express-board"
      },
      "source": [
        "# Import the libraries we will be using\n",
        "import numpy as np\n",
        "import pandas as pd\n",
        "import matplotlib.pylab as plt\n",
        "\n",
        "from sklearn import preprocessing\n",
        "from sklearn import metrics\n",
        "\n",
        "from sklearn.naive_bayes import CategoricalNB\n",
        "from sklearn.tree import DecisionTreeClassifier\n",
        "\n",
        "from sklearn.model_selection import train_test_split\n",
        "\n",
        "import statsmodels.formula.api as smf"
      ],
      "id": "express-board",
      "execution_count": 6,
      "outputs": []
    },
    {
      "cell_type": "markdown",
      "metadata": {
        "id": "gross-baseline"
      },
      "source": [
        "For this excercise, we will return to the Titanic data set so we can compare the NB results with those we got before using CART and logistic regression."
      ],
      "id": "gross-baseline"
    },
    {
      "cell_type": "code",
      "metadata": {
        "id": "equal-headquarters"
      },
      "source": [
        "# Load data\n",
        "# path = \"./data/titanic.csv\"\n",
        "path=\"./data/\"\n",
        "fn = \"titanic.csv\"\n",
        "full_path= path+fn\n",
        "df = pd.read_csv(full_path)[[\"survived\", \"pclass\", \"sex\", \"age\", \"fare\"]].dropna()"
      ],
      "id": "equal-headquarters",
      "execution_count": 7,
      "outputs": []
    },
    {
      "cell_type": "markdown",
      "metadata": {
        "id": "cardiovascular-miami"
      },
      "source": [
        "# Data preparation and preprocessing"
      ],
      "id": "cardiovascular-miami"
    },
    {
      "cell_type": "markdown",
      "metadata": {
        "id": "thirty-revision"
      },
      "source": [
        "As we did the last time we looked at the Titanic data, we will start by recoding some columns and cleaning up any erant records."
      ],
      "id": "thirty-revision"
    },
    {
      "cell_type": "code",
      "metadata": {
        "colab": {
          "base_uri": "https://localhost:8080/",
          "height": 204
        },
        "id": "corrected-aaron",
        "outputId": "307704fd-5b25-4c26-dca1-6f9760f0247b"
      },
      "source": [
        "# Transform sex column to a numeric variable\n",
        "df[\"female\"] = (df.sex == \"female\").astype(int)\n",
        "df = df.drop(\"sex\", axis=\"columns\")\n",
        "\n",
        "# Drop 'outliers'. This is to help the visualization in the next examples.\n",
        "# --> In general, identifying and determining whether / how to deal with outliers is non-trival\n",
        "df = df[df.fare < 400]\n",
        "\n",
        "# Take a look at the data\n",
        "df.head()"
      ],
      "id": "corrected-aaron",
      "execution_count": 8,
      "outputs": [
        {
          "output_type": "execute_result",
          "data": {
            "text/html": [
              "<div>\n",
              "<style scoped>\n",
              "    .dataframe tbody tr th:only-of-type {\n",
              "        vertical-align: middle;\n",
              "    }\n",
              "\n",
              "    .dataframe tbody tr th {\n",
              "        vertical-align: top;\n",
              "    }\n",
              "\n",
              "    .dataframe thead th {\n",
              "        text-align: right;\n",
              "    }\n",
              "</style>\n",
              "<table border=\"1\" class=\"dataframe\">\n",
              "  <thead>\n",
              "    <tr style=\"text-align: right;\">\n",
              "      <th></th>\n",
              "      <th>survived</th>\n",
              "      <th>pclass</th>\n",
              "      <th>age</th>\n",
              "      <th>fare</th>\n",
              "      <th>female</th>\n",
              "    </tr>\n",
              "  </thead>\n",
              "  <tbody>\n",
              "    <tr>\n",
              "      <th>0</th>\n",
              "      <td>1.0</td>\n",
              "      <td>1.0</td>\n",
              "      <td>29.0000</td>\n",
              "      <td>211.3375</td>\n",
              "      <td>1</td>\n",
              "    </tr>\n",
              "    <tr>\n",
              "      <th>1</th>\n",
              "      <td>1.0</td>\n",
              "      <td>1.0</td>\n",
              "      <td>0.9167</td>\n",
              "      <td>151.5500</td>\n",
              "      <td>0</td>\n",
              "    </tr>\n",
              "    <tr>\n",
              "      <th>2</th>\n",
              "      <td>0.0</td>\n",
              "      <td>1.0</td>\n",
              "      <td>2.0000</td>\n",
              "      <td>151.5500</td>\n",
              "      <td>1</td>\n",
              "    </tr>\n",
              "    <tr>\n",
              "      <th>3</th>\n",
              "      <td>0.0</td>\n",
              "      <td>1.0</td>\n",
              "      <td>30.0000</td>\n",
              "      <td>151.5500</td>\n",
              "      <td>0</td>\n",
              "    </tr>\n",
              "    <tr>\n",
              "      <th>4</th>\n",
              "      <td>0.0</td>\n",
              "      <td>1.0</td>\n",
              "      <td>25.0000</td>\n",
              "      <td>151.5500</td>\n",
              "      <td>1</td>\n",
              "    </tr>\n",
              "  </tbody>\n",
              "</table>\n",
              "</div>"
            ],
            "text/plain": [
              "   survived  pclass      age      fare  female\n",
              "0       1.0     1.0  29.0000  211.3375       1\n",
              "1       1.0     1.0   0.9167  151.5500       0\n",
              "2       0.0     1.0   2.0000  151.5500       1\n",
              "3       0.0     1.0  30.0000  151.5500       0\n",
              "4       0.0     1.0  25.0000  151.5500       1"
            ]
          },
          "metadata": {
            "tags": []
          },
          "execution_count": 8
        }
      ]
    },
    {
      "cell_type": "markdown",
      "metadata": {
        "id": "clear-edinburgh"
      },
      "source": [
        "(Always, always, always, take a look at your data!)"
      ],
      "id": "clear-edinburgh"
    },
    {
      "cell_type": "markdown",
      "metadata": {
        "id": "pressed-mistake"
      },
      "source": [
        "We will set up an *insample* training set and an *out-of-sample* test set.  To keep things simple, we will simply use random sampling.  (Is this the right thing to do?  Why or why not?)  We will sample records by randomly selecting them with a fixed probability.  One easy way to do this is to just create an index of `1`s and `0`s indicating the records we wish to include in the training set and test set, respectively."
      ],
      "id": "pressed-mistake"
    },
    {
      "cell_type": "code",
      "metadata": {
        "colab": {
          "base_uri": "https://localhost:8080/"
        },
        "id": "pharmaceutical-brook",
        "outputId": "dd9fdaa8-7b8e-4310-bf51-6beadb59e21c"
      },
      "source": [
        "np.random.seed(seed=124)                        # Legacy function.  Not best practice.  \n",
        "                                                # See documentation for: numpy.random.seed\n",
        "nrow           = df.shape[0] \n",
        "runif          = np.random.uniform(size=nrow)\n",
        "insample_pct   = 0.6666\n",
        "insample_flag  = [x <  insample_pct for x in runif]\n",
        "outsample_flag = [x >= insample_pct for x in runif]\n",
        "\n",
        "train_df  = df.iloc[insample_flag,:]\n",
        "test_df   = df.iloc[outsample_flag,:]\n",
        "\n",
        "train_df.describe()\n",
        "test_df.head()\n",
        "train_df.shape"
      ],
      "id": "pharmaceutical-brook",
      "execution_count": 16,
      "outputs": [
        {
          "output_type": "execute_result",
          "data": {
            "text/plain": [
              "(702, 5)"
            ]
          },
          "metadata": {
            "tags": []
          },
          "execution_count": 16
        }
      ]
    },
    {
      "cell_type": "code",
      "metadata": {
        "id": "corresponding-native"
      },
      "source": [
        "# We could also have used the column definitions we create later on, and then done: \n",
        "#\n",
        "#     X = df[predictor_cols]\n",
        "#     y = df[target_cols]\n",
        "#     X_train, X_test, Y_train, Y_test = train_test_split(X, Y, test_size=1-insample_pct, random_state=42)\n",
        "#\n",
        "#  and then \n",
        "#\n",
        "#     train_df= X_train.append(y_train)\n",
        "#     test_df = X_test.append(y_test)\n",
        "#\n",
        "#  but in this case, it is less convenient."
      ],
      "id": "corresponding-native",
      "execution_count": null,
      "outputs": []
    },
    {
      "cell_type": "markdown",
      "metadata": {
        "id": "alpine-evolution"
      },
      "source": [
        "The version of Naive Bayes we are using here  works best with categorical data, so I will need to create some buckets for the continuous variables in the data set. I can use the `pandas.cut` function to do this. I have decided to use the quantiles of the distribution as my bucket boundaries.  I will use the quantiles from the training data to bucket both the training and test sets.  (Why?) "
      ],
      "id": "alpine-evolution"
    },
    {
      "cell_type": "code",
      "metadata": {
        "run_control": {
          "marked": false
        },
        "id": "handy-newfoundland"
      },
      "source": [
        "quantile_cuts_a = [0, 0.05, 0.1, 0.25, 0.5, 0.75, 0.9, 0.95, 1]\n",
        "\n",
        "age_quantiles   = np.quantile(train_df.age,quantile_cuts_a)\n",
        "\n",
        "age_bin         = pd.cut(train_df[\"age\"], bins=age_quantiles, include_lowest=True, labels=['0-5th','05-10th','10-25th','25-50th','50-75th','75-90th','90-95th','95-100th'])\n",
        "age_bin_num     = pd.cut(train_df[\"age\"], bins=age_quantiles, include_lowest = True, labels=False)\n",
        "train_df        = train_df.assign(age_bin=age_bin)\n",
        "train_df        = train_df.assign(age_bin_num=age_bin_num)\n",
        "\n",
        "age_bin         = pd.cut(test_df[\"age\"], bins=age_quantiles, labels=['0-5th','05-10th','10-25th','25-50th','50-75th','75-90th','90-95th','95-100th'])\n",
        "age_bin_num     = pd.cut(test_df[\"age\"], bins=age_quantiles, labels=False)\n",
        "test_df         = test_df.assign(age_bin=age_bin)\n",
        "test_df         = test_df.assign(age_bin_num=age_bin_num)\n",
        "\n",
        "\n",
        "quantile_cuts_f = [0, 0.25, 0.75, 1]\n",
        "\n",
        "fare_quantiles  = np.quantile(train_df.fare,quantile_cuts_f)\n",
        "\n",
        "fare_bin        = pd.cut(train_df[\"fare\"], bins=fare_quantiles, include_lowest=True, labels=['low','med','high'])\n",
        "fare_bin_num    = pd.cut(train_df[\"fare\"], bins=fare_quantiles, include_lowest=True, labels = False)\n",
        "train_df        = train_df.assign(fare_bin=fare_bin)\n",
        "train_df        = train_df.assign(fare_bin_num=fare_bin_num)\n",
        "\n",
        "fare_bin        = pd.cut(test_df[\"fare\"],  bins=fare_quantiles, include_lowest=True, labels=['low','med','high'])\n",
        "fare_bin_num    = pd.cut(test_df[\"fare\"],  bins=fare_quantiles, include_lowest=True, labels = False)\n",
        "test_df         = test_df.assign(fare_bin=fare_bin)\n",
        "test_df         = test_df.assign(fare_bin_num=fare_bin_num)\n"
      ],
      "id": "handy-newfoundland",
      "execution_count": 17,
      "outputs": []
    },
    {
      "cell_type": "code",
      "metadata": {
        "run_control": {
          "marked": true
        },
        "id": "photographic-israeli"
      },
      "source": [
        "# Names of different columns\n",
        "target_col          = \"survived\"\n",
        "categorical_cols    = ['age_bin','fare_bin']\n",
        "predictor_cols      = [\"pclass\", \"female\",'age_bin','fare_bin']\n",
        "predictor_cols_num  = [\"pclass\", \"female\",'age_bin_num','fare_bin_num']"
      ],
      "id": "photographic-israeli",
      "execution_count": 18,
      "outputs": []
    },
    {
      "cell_type": "markdown",
      "metadata": {
        "id": "auburn-hampshire"
      },
      "source": [
        "We can now take a look at our binning and see how the data is distributed across buckets."
      ],
      "id": "auburn-hampshire"
    },
    {
      "cell_type": "code",
      "metadata": {
        "colab": {
          "base_uri": "https://localhost:8080/",
          "height": 513
        },
        "id": "radio-magnitude",
        "outputId": "a1951c28-e27c-4806-dadd-1a665fb4271d"
      },
      "source": [
        "fig, axs  = plt.subplots(ncols=2, nrows=1, figsize=(14, 7))\n",
        "axs = axs.flatten()\n",
        "train_df.sort_values(by='age_bin').age_bin.hist(ax=axs[0], bins=8,color='blue')\n",
        "axs[0].set_title(\"Age Distribution\")\n",
        "plt.tight_layout()\n",
        "train_df.sort_values(by='fare_bin').fare_bin.hist( ax=axs[1],bins = 5, color='green')\n",
        "axs[1].set_title(\"Fare Distribution\")\n",
        "plt.tight_layout()\n"
      ],
      "id": "radio-magnitude",
      "execution_count": 19,
      "outputs": [
        {
          "output_type": "display_data",
          "data": {
            "image/png": "[encoded data removed]",
            "text/plain": [
              "<Figure size 1008x504 with 2 Axes>"
            ]
          },
          "metadata": {
            "tags": [],
            "needs_background": "light"
          }
        }
      ]
    },
    {
      "cell_type": "code",
      "metadata": {
        "id": "competent-origin",
        "outputId": "efa47f27-3ec5-4bf0-8439-2ed7b7478729"
      },
      "source": [
        "train_df.head()"
      ],
      "id": "competent-origin",
      "execution_count": null,
      "outputs": [
        {
          "output_type": "execute_result",
          "data": {
            "text/html": [
              "<div>\n",
              "<style scoped>\n",
              "    .dataframe tbody tr th:only-of-type {\n",
              "        vertical-align: middle;\n",
              "    }\n",
              "\n",
              "    .dataframe tbody tr th {\n",
              "        vertical-align: top;\n",
              "    }\n",
              "\n",
              "    .dataframe thead th {\n",
              "        text-align: right;\n",
              "    }\n",
              "</style>\n",
              "<table border=\"1\" class=\"dataframe\">\n",
              "  <thead>\n",
              "    <tr style=\"text-align: right;\">\n",
              "      <th></th>\n",
              "      <th>survived</th>\n",
              "      <th>pclass</th>\n",
              "      <th>age</th>\n",
              "      <th>fare</th>\n",
              "      <th>female</th>\n",
              "      <th>age_bin</th>\n",
              "      <th>age_bin_num</th>\n",
              "      <th>fare_bin</th>\n",
              "      <th>fare_bin_num</th>\n",
              "    </tr>\n",
              "  </thead>\n",
              "  <tbody>\n",
              "    <tr>\n",
              "      <th>0</th>\n",
              "      <td>1.0</td>\n",
              "      <td>1.0</td>\n",
              "      <td>29.0</td>\n",
              "      <td>211.3375</td>\n",
              "      <td>1</td>\n",
              "      <td>50-75th</td>\n",
              "      <td>4</td>\n",
              "      <td>high</td>\n",
              "      <td>2</td>\n",
              "    </tr>\n",
              "    <tr>\n",
              "      <th>2</th>\n",
              "      <td>0.0</td>\n",
              "      <td>1.0</td>\n",
              "      <td>2.0</td>\n",
              "      <td>151.5500</td>\n",
              "      <td>1</td>\n",
              "      <td>0-5th</td>\n",
              "      <td>0</td>\n",
              "      <td>high</td>\n",
              "      <td>2</td>\n",
              "    </tr>\n",
              "    <tr>\n",
              "      <th>3</th>\n",
              "      <td>0.0</td>\n",
              "      <td>1.0</td>\n",
              "      <td>30.0</td>\n",
              "      <td>151.5500</td>\n",
              "      <td>0</td>\n",
              "      <td>50-75th</td>\n",
              "      <td>4</td>\n",
              "      <td>high</td>\n",
              "      <td>2</td>\n",
              "    </tr>\n",
              "    <tr>\n",
              "      <th>4</th>\n",
              "      <td>0.0</td>\n",
              "      <td>1.0</td>\n",
              "      <td>25.0</td>\n",
              "      <td>151.5500</td>\n",
              "      <td>1</td>\n",
              "      <td>25-50th</td>\n",
              "      <td>3</td>\n",
              "      <td>high</td>\n",
              "      <td>2</td>\n",
              "    </tr>\n",
              "    <tr>\n",
              "      <th>5</th>\n",
              "      <td>1.0</td>\n",
              "      <td>1.0</td>\n",
              "      <td>48.0</td>\n",
              "      <td>26.5500</td>\n",
              "      <td>0</td>\n",
              "      <td>75-90th</td>\n",
              "      <td>5</td>\n",
              "      <td>med</td>\n",
              "      <td>1</td>\n",
              "    </tr>\n",
              "  </tbody>\n",
              "</table>\n",
              "</div>"
            ],
            "text/plain": [
              "   survived  pclass   age      fare  female  age_bin  age_bin_num fare_bin  \\\n",
              "0       1.0     1.0  29.0  211.3375       1  50-75th            4     high   \n",
              "2       0.0     1.0   2.0  151.5500       1    0-5th            0     high   \n",
              "3       0.0     1.0  30.0  151.5500       0  50-75th            4     high   \n",
              "4       0.0     1.0  25.0  151.5500       1  25-50th            3     high   \n",
              "5       1.0     1.0  48.0   26.5500       0  75-90th            5      med   \n",
              "\n",
              "   fare_bin_num  \n",
              "0             2  \n",
              "2             2  \n",
              "3             2  \n",
              "4             2  \n",
              "5             1  "
            ]
          },
          "metadata": {
            "tags": []
          },
          "execution_count": 9
        }
      ]
    },
    {
      "cell_type": "code",
      "metadata": {
        "id": "common-petite",
        "outputId": "04711620-2336-448e-af6a-e1ecb95ee392"
      },
      "source": [
        "test_df.head()"
      ],
      "id": "common-petite",
      "execution_count": null,
      "outputs": [
        {
          "output_type": "execute_result",
          "data": {
            "text/html": [
              "<div>\n",
              "<style scoped>\n",
              "    .dataframe tbody tr th:only-of-type {\n",
              "        vertical-align: middle;\n",
              "    }\n",
              "\n",
              "    .dataframe tbody tr th {\n",
              "        vertical-align: top;\n",
              "    }\n",
              "\n",
              "    .dataframe thead th {\n",
              "        text-align: right;\n",
              "    }\n",
              "</style>\n",
              "<table border=\"1\" class=\"dataframe\">\n",
              "  <thead>\n",
              "    <tr style=\"text-align: right;\">\n",
              "      <th></th>\n",
              "      <th>survived</th>\n",
              "      <th>pclass</th>\n",
              "      <th>age</th>\n",
              "      <th>fare</th>\n",
              "      <th>female</th>\n",
              "      <th>age_bin</th>\n",
              "      <th>age_bin_num</th>\n",
              "      <th>fare_bin</th>\n",
              "      <th>fare_bin_num</th>\n",
              "    </tr>\n",
              "  </thead>\n",
              "  <tbody>\n",
              "    <tr>\n",
              "      <th>1</th>\n",
              "      <td>1.0</td>\n",
              "      <td>1.0</td>\n",
              "      <td>0.9167</td>\n",
              "      <td>151.5500</td>\n",
              "      <td>0</td>\n",
              "      <td>0-5th</td>\n",
              "      <td>0</td>\n",
              "      <td>high</td>\n",
              "      <td>2</td>\n",
              "    </tr>\n",
              "    <tr>\n",
              "      <th>6</th>\n",
              "      <td>1.0</td>\n",
              "      <td>1.0</td>\n",
              "      <td>63.0000</td>\n",
              "      <td>77.9583</td>\n",
              "      <td>1</td>\n",
              "      <td>95-100th</td>\n",
              "      <td>7</td>\n",
              "      <td>high</td>\n",
              "      <td>2</td>\n",
              "    </tr>\n",
              "    <tr>\n",
              "      <th>9</th>\n",
              "      <td>0.0</td>\n",
              "      <td>1.0</td>\n",
              "      <td>71.0000</td>\n",
              "      <td>49.5042</td>\n",
              "      <td>0</td>\n",
              "      <td>95-100th</td>\n",
              "      <td>7</td>\n",
              "      <td>high</td>\n",
              "      <td>2</td>\n",
              "    </tr>\n",
              "    <tr>\n",
              "      <th>13</th>\n",
              "      <td>1.0</td>\n",
              "      <td>1.0</td>\n",
              "      <td>26.0000</td>\n",
              "      <td>78.8500</td>\n",
              "      <td>1</td>\n",
              "      <td>25-50th</td>\n",
              "      <td>3</td>\n",
              "      <td>high</td>\n",
              "      <td>2</td>\n",
              "    </tr>\n",
              "    <tr>\n",
              "      <th>18</th>\n",
              "      <td>1.0</td>\n",
              "      <td>1.0</td>\n",
              "      <td>32.0000</td>\n",
              "      <td>76.2917</td>\n",
              "      <td>1</td>\n",
              "      <td>50-75th</td>\n",
              "      <td>4</td>\n",
              "      <td>high</td>\n",
              "      <td>2</td>\n",
              "    </tr>\n",
              "  </tbody>\n",
              "</table>\n",
              "</div>"
            ],
            "text/plain": [
              "    survived  pclass      age      fare  female   age_bin  age_bin_num  \\\n",
              "1        1.0     1.0   0.9167  151.5500       0     0-5th            0   \n",
              "6        1.0     1.0  63.0000   77.9583       1  95-100th            7   \n",
              "9        0.0     1.0  71.0000   49.5042       0  95-100th            7   \n",
              "13       1.0     1.0  26.0000   78.8500       1   25-50th            3   \n",
              "18       1.0     1.0  32.0000   76.2917       1   50-75th            4   \n",
              "\n",
              "   fare_bin  fare_bin_num  \n",
              "1      high             2  \n",
              "6      high             2  \n",
              "9      high             2  \n",
              "13     high             2  \n",
              "18     high             2  "
            ]
          },
          "metadata": {
            "tags": []
          },
          "execution_count": 10
        }
      ]
    },
    {
      "cell_type": "markdown",
      "metadata": {
        "id": "expected-program"
      },
      "source": [
        "# Logit model:\n",
        "As always, I will start with a logit model, to get a feel for the data and to use as a benchmark."
      ],
      "id": "expected-program"
    },
    {
      "cell_type": "markdown",
      "metadata": {
        "id": "plastic-logging"
      },
      "source": [
        "Since I will be using `statsmodels.api`, I can use formulas rather than restructuring my data each time I want to change the variables included in my model."
      ],
      "id": "plastic-logging"
    },
    {
      "cell_type": "code",
      "metadata": {
        "id": "pacific-orlando"
      },
      "source": [
        "# We could use this:\n",
        "#\n",
        "#   df = sm.add_constant(df, prepend=False)\n",
        "#   predictor_cols = 'const' + predictor_cols\n",
        "#   model = sm.Logit(df[target_col], df[predictor_cols])\n",
        "#   logit_model_sm = model.fit()\n",
        "#\n",
        "# But using formulas is easier..."
      ],
      "id": "pacific-orlando",
      "execution_count": null,
      "outputs": []
    },
    {
      "cell_type": "code",
      "metadata": {
        "colab": {
          "base_uri": "https://localhost:8080/"
        },
        "id": "accepted-limit",
        "outputId": "8ca76329-7d57-4441-a0ab-163945ff1e9a"
      },
      "source": [
        "# set up the formula for logit  \n",
        "#   This is a general code snippet that will always work, even if we don't know the formula\n",
        "#   In this case, of course, I do know the formua and could just write: survived ~ pclass + female + age_bin + fare_bin\n",
        "#\n",
        "\n",
        "my_formula=target_col + ' ~ '\n",
        "for i in range(len(predictor_cols)):\n",
        "    if i > 0:\n",
        "        my_formula = my_formula + \" + \"       \n",
        "    my_formula = my_formula + predictor_cols[i]\n",
        "print(\"Formula: \", my_formula)"
      ],
      "id": "accepted-limit",
      "execution_count": 20,
      "outputs": [
        {
          "output_type": "stream",
          "text": [
            "Formula:  survived ~ pclass + female + age_bin + fare_bin\n"
          ],
          "name": "stdout"
        }
      ]
    },
    {
      "cell_type": "code",
      "metadata": {
        "colab": {
          "base_uri": "https://localhost:8080/"
        },
        "id": "economic-language",
        "outputId": "4751c49f-0550-4848-a009-8a92af476307"
      },
      "source": [
        "model = smf.logit(my_formula, data = train_df)  # Calling the Class (statsmodels is a little different than sklearn)\n",
        "logit_model_sm = model.fit()                    # Fitting the data to the classifier"
      ],
      "id": "economic-language",
      "execution_count": 21,
      "outputs": [
        {
          "output_type": "stream",
          "text": [
            "Optimization terminated successfully.\n",
            "         Current function value: 0.468573\n",
            "         Iterations 6\n"
          ],
          "name": "stdout"
        }
      ]
    },
    {
      "cell_type": "code",
      "metadata": {
        "id": "actual-formula"
      },
      "source": [
        "# we could also have used sklearn:\n",
        "#\n",
        "#   logit_model = linear_model.LogisticRegression()\n",
        "#   logit_model.fit(X=df[predictor_cols], y=df[target_col])\n",
        "#\n",
        "# but then we would not be able to do the following analysis:"
      ],
      "id": "actual-formula",
      "execution_count": 22,
      "outputs": []
    },
    {
      "cell_type": "code",
      "metadata": {
        "colab": {
          "base_uri": "https://localhost:8080/"
        },
        "id": "pregnant-munich",
        "outputId": "61aef943-da9f-4c52-8c52-670577922fa6"
      },
      "source": [
        "print(logit_model_sm.summary())"
      ],
      "id": "pregnant-munich",
      "execution_count": 23,
      "outputs": [
        {
          "output_type": "stream",
          "text": [
            "                           Logit Regression Results                           \n",
            "==============================================================================\n",
            "Dep. Variable:               survived   No. Observations:                  702\n",
            "Model:                          Logit   Df Residuals:                      690\n",
            "Method:                           MLE   Df Model:                           11\n",
            "Date:                Tue, 27 Jul 2021   Pseudo R-squ.:                  0.3062\n",
            "Time:                        07:05:16   Log-Likelihood:                -328.94\n",
            "converged:                       True   LL-Null:                       -474.10\n",
            "Covariance Type:            nonrobust   LLR p-value:                 9.506e-56\n",
            "=======================================================================================\n",
            "                          coef    std err          z      P>|z|      [0.025      0.975]\n",
            "---------------------------------------------------------------------------------------\n",
            "Intercept               3.7294      0.820      4.549      0.000       2.122       5.336\n",
            "age_bin[T.05-10th]     -1.3806      0.594     -2.324      0.020      -2.545      -0.216\n",
            "age_bin[T.10-25th]     -2.2340      0.510     -4.378      0.000      -3.234      -1.234\n",
            "age_bin[T.25-50th]     -1.9362      0.477     -4.056      0.000      -2.872      -1.001\n",
            "age_bin[T.50-75th]     -2.1153      0.476     -4.441      0.000      -3.049      -1.182\n",
            "age_bin[T.75-90th]     -2.6343      0.519     -5.071      0.000      -3.652      -1.616\n",
            "age_bin[T.90-95th]     -2.1769      0.674     -3.229      0.001      -3.498      -0.856\n",
            "age_bin[T.95-100th]    -3.0041      0.650     -4.621      0.000      -4.278      -1.730\n",
            "fare_bin[T.med]        -0.7453      0.294     -2.531      0.011      -1.323      -0.168\n",
            "fare_bin[T.high]       -0.5624      0.416     -1.352      0.176      -1.378       0.253\n",
            "pclass                 -1.1667      0.192     -6.086      0.000      -1.542      -0.791\n",
            "female                  2.5228      0.210     12.042      0.000       2.112       2.933\n",
            "=======================================================================================\n"
          ],
          "name": "stdout"
        }
      ]
    },
    {
      "cell_type": "markdown",
      "metadata": {
        "id": "magnetic-basin"
      },
      "source": [
        "Wow!  Every one of the buckets appears to be significant in the regression.  Which ones affect the probabilty of survival the most?\n",
        "\n",
        "I can examine the marginal effects to get a sense of this for the typical case.  (Why is this the typical case?  Would it be different for a specific record?  Why or why not?)"
      ],
      "id": "magnetic-basin"
    },
    {
      "cell_type": "code",
      "metadata": {
        "colab": {
          "base_uri": "https://localhost:8080/"
        },
        "id": "cardiac-float",
        "outputId": "0eea8c72-0e16-4971-faef-4f9a3505d490"
      },
      "source": [
        "mfx = logit_model_sm.get_margeff()\n",
        "print(mfx.summary())"
      ],
      "id": "cardiac-float",
      "execution_count": 24,
      "outputs": [
        {
          "output_type": "stream",
          "text": [
            "        Logit Marginal Effects       \n",
            "=====================================\n",
            "Dep. Variable:               survived\n",
            "Method:                          dydx\n",
            "At:                           overall\n",
            "=======================================================================================\n",
            "                         dy/dx    std err          z      P>|z|      [0.025      0.975]\n",
            "---------------------------------------------------------------------------------------\n",
            "age_bin[T.05-10th]     -0.2083      0.089     -2.351      0.019      -0.382      -0.035\n",
            "age_bin[T.10-25th]     -0.3371      0.074     -4.568      0.000      -0.482      -0.192\n",
            "age_bin[T.25-50th]     -0.2922      0.069     -4.208      0.000      -0.428      -0.156\n",
            "age_bin[T.50-75th]     -0.3192      0.069     -4.645      0.000      -0.454      -0.184\n",
            "age_bin[T.75-90th]     -0.3975      0.074     -5.378      0.000      -0.542      -0.253\n",
            "age_bin[T.90-95th]     -0.3285      0.099     -3.304      0.001      -0.523      -0.134\n",
            "age_bin[T.95-100th]    -0.4533      0.094     -4.845      0.000      -0.637      -0.270\n",
            "fare_bin[T.med]        -0.1125      0.044     -2.569      0.010      -0.198      -0.027\n",
            "fare_bin[T.high]       -0.0849      0.062     -1.358      0.174      -0.207       0.038\n",
            "pclass                 -0.1761      0.027     -6.626      0.000      -0.228      -0.124\n",
            "female                  0.3807      0.017     22.073      0.000       0.347       0.414\n",
            "=======================================================================================\n"
          ],
          "name": "stdout"
        }
      ]
    },
    {
      "cell_type": "markdown",
      "metadata": {
        "id": "suffering-valley"
      },
      "source": [
        "If I graph the marginal effects, I can get a much better sense of which variables move the proability of survival up or down the most.  (The code for coloring the bars and adding notations on the x-axis is a little hackey...)"
      ],
      "id": "suffering-valley"
    },
    {
      "cell_type": "code",
      "metadata": {
        "id": "sound-fiction",
        "outputId": "823ed281-b3ed-4121-822a-6907cadab467"
      },
      "source": [
        "mfx_names = logit_model_sm.params.index[1:]\n",
        "plt.figure(figsize = (10,8))\n",
        "plt.bar(mfx_names,mfx.margeff,color=[\"b\",\"b\",\"b\",'b',\"b\",\"b\",\"b\",\"c\",\"c\",\"c\",\"c\"])\n",
        "plt.xticks(rotation=45)\n",
        "plt.title(\"Marginal Effects of Variables on Probabilty of Survival\")\n",
        "# total hack for extra notation on x axis !!\n",
        "plt.xlabel(\"----------------------------------------------- Age ---------------------------------------------------         ------------------------------ Other ------------------------------\")\n",
        "plt.tight_layout()\n"
      ],
      "id": "sound-fiction",
      "execution_count": null,
      "outputs": [
        {
          "output_type": "display_data",
          "data": {
            "image/png": "[encoded data removed]",
            "text/plain": [
              "<Figure size 720x576 with 1 Axes>"
            ]
          },
          "metadata": {
            "tags": [],
            "needs_background": "light"
          }
        }
      ]
    },
    {
      "cell_type": "markdown",
      "metadata": {
        "id": "pediatric-musical"
      },
      "source": [
        "Let's see ho w we do out of sample..."
      ],
      "id": "pediatric-musical"
    },
    {
      "cell_type": "code",
      "metadata": {
        "colab": {
          "base_uri": "https://localhost:8080/"
        },
        "id": "becoming-pledge",
        "outputId": "b4d722dc-b8c0-4460-e918-ddb6700c8fdc"
      },
      "source": [
        "pred_glm     = logit_model_sm.predict(test_df)\n",
        "pred_bin_glm = np.where(pred_glm > 0.5, True, False)  # sk.metrics needs discrete valued data\n",
        "\n",
        "sm_logit_skm_accuracy = metrics.accuracy_score(pred_bin_glm, test_df.survived)\n",
        "print (\"Accuracy (sm logit) fr SKM = %.2f\" % sm_logit_skm_accuracy)"
      ],
      "id": "becoming-pledge",
      "execution_count": 25,
      "outputs": [
        {
          "output_type": "stream",
          "text": [
            "Accuracy (sm logit) fr SKM = 0.80\n"
          ],
          "name": "stdout"
        }
      ]
    },
    {
      "cell_type": "markdown",
      "metadata": {
        "id": "reserved-numbers"
      },
      "source": [
        "# Naive Bayes\n",
        "\n",
        "There are several NB claissifers available in `sklearn`, so to fit a Naive Bayes classifier, we will follow the same template as we have for other `sklearn` algorithms.  However, the Naive Bayes claissifier can't use formuae and expects numerical categories, so we need to use the numerically coded categories, rather than the text labeled categories. "
      ],
      "id": "reserved-numbers"
    },
    {
      "cell_type": "code",
      "metadata": {
        "run_control": {
          "marked": true
        },
        "id": "whole-mandate"
      },
      "source": [
        "X_train = train_df[predictor_cols_num]\n",
        "y_train = train_df[target_col]\n",
        "X_test  = test_df[predictor_cols_num]\n",
        "y_test  = test_df[target_col]"
      ],
      "id": "whole-mandate",
      "execution_count": 26,
      "outputs": []
    },
    {
      "cell_type": "markdown",
      "metadata": {
        "id": "accompanied-colors"
      },
      "source": [
        "As usual, we only need two lines of code to fit a model in `sklearn`, once we have gotten our data set up."
      ],
      "id": "accompanied-colors"
    },
    {
      "cell_type": "code",
      "metadata": {
        "run_control": {
          "marked": false
        },
        "colab": {
          "base_uri": "https://localhost:8080/"
        },
        "id": "canadian-hardwood",
        "outputId": "f39411b4-5c61-4065-81d3-1e9d2443ee98"
      },
      "source": [
        "naive_bayes = CategoricalNB()          # Calling the Class\n",
        "naive_bayes.fit(X_train, y_train)      # Fitting the data to the classifier"
      ],
      "id": "canadian-hardwood",
      "execution_count": 27,
      "outputs": [
        {
          "output_type": "execute_result",
          "data": {
            "text/plain": [
              "CategoricalNB(alpha=1.0, class_prior=None, fit_prior=True)"
            ]
          },
          "metadata": {
            "tags": []
          },
          "execution_count": 27
        }
      ]
    },
    {
      "cell_type": "markdown",
      "metadata": {
        "id": "better-saskatchewan"
      },
      "source": [
        "We check our results..."
      ],
      "id": "better-saskatchewan"
    },
    {
      "cell_type": "code",
      "metadata": {
        "run_control": {
          "marked": false
        },
        "colab": {
          "base_uri": "https://localhost:8080/"
        },
        "id": "adequate-donor",
        "outputId": "8fd6fcd4-d930-4e8e-ad10-bc1a30b40e44"
      },
      "source": [
        "pred_nb      = naive_bayes.predict_proba(X_test)[:,1]  # Predict on test data\n",
        "pred_bin_nb  = np.where(pred_nb > 0.5, True, False)    # sk.metrics needs discrete valued data\n",
        "\n",
        "skl_nb_skm_accuracy = metrics.accuracy_score(pred_bin_nb, test_df.survived)\n",
        "print (\"Accuracy (naive bayes) fr SKM = %.2f\" % skl_nb_skm_accuracy)"
      ],
      "id": "adequate-donor",
      "execution_count": 28,
      "outputs": [
        {
          "output_type": "stream",
          "text": [
            "Accuracy (naive bayes) fr SKM = 0.72\n"
          ],
          "name": "stdout"
        }
      ]
    },
    {
      "cell_type": "markdown",
      "metadata": {
        "id": "wanted-determination"
      },
      "source": [
        "# Decison Tree\n",
        "\n",
        "Finally, we see how a recursive partitioning algorithm will build a tree from the same data."
      ],
      "id": "wanted-determination"
    },
    {
      "cell_type": "code",
      "metadata": {
        "run_control": {
          "marked": false
        },
        "colab": {
          "base_uri": "https://localhost:8080/"
        },
        "id": "worthy-judges",
        "outputId": "991a91db-762e-4bdd-bfcd-c6503c2cbbf4"
      },
      "source": [
        "decision_tree = DecisionTreeClassifier(max_depth=3, criterion=\"entropy\")       # Calling the Class\n",
        "decision_tree.fit(train_df[predictor_cols_num], train_df[target_col])          # Fitting the data to the classifier"
      ],
      "id": "worthy-judges",
      "execution_count": 30,
      "outputs": [
        {
          "output_type": "execute_result",
          "data": {
            "text/plain": [
              "DecisionTreeClassifier(ccp_alpha=0.0, class_weight=None, criterion='entropy',\n",
              "                       max_depth=3, max_features=None, max_leaf_nodes=None,\n",
              "                       min_impurity_decrease=0.0, min_impurity_split=None,\n",
              "                       min_samples_leaf=1, min_samples_split=2,\n",
              "                       min_weight_fraction_leaf=0.0, presort='deprecated',\n",
              "                       random_state=None, splitter='best')"
            ]
          },
          "metadata": {
            "tags": []
          },
          "execution_count": 30
        }
      ]
    },
    {
      "cell_type": "code",
      "metadata": {
        "run_control": {
          "marked": true
        },
        "colab": {
          "base_uri": "https://localhost:8080/"
        },
        "id": "marked-forty",
        "outputId": "598b1145-f61b-452b-ede4-e48351e2f442"
      },
      "source": [
        "pred_CART = decision_tree.predict_proba(X_test)[:,1]                           # Predict on test data\n",
        "pred_bin_CART  = np.where(pred_CART > 0.5, True, False)                        # sk.metrics needs discrete valued data\n",
        "\n",
        "skl_CART_skm_accuracy = metrics.accuracy_score(pred_bin_CART, test_df.survived)\n",
        "print (\"Accuracy (decision tree) fr SKM = %.2f\" % skl_CART_skm_accuracy)"
      ],
      "id": "marked-forty",
      "execution_count": 31,
      "outputs": [
        {
          "output_type": "stream",
          "text": [
            "Accuracy (decision tree) fr SKM = 0.81\n"
          ],
          "name": "stdout"
        }
      ]
    },
    {
      "cell_type": "markdown",
      "metadata": {
        "id": "modern-shelter"
      },
      "source": [
        "# Evaluating the models's power\n",
        "\n",
        "I will write a short little bit of code to make plotting ROC curves for multiple models easier.  Since I will also want to be able to simply look at the AUCs without plotting sometimes, I built that funcitionality as well. "
      ],
      "id": "modern-shelter"
    },
    {
      "cell_type": "code",
      "metadata": {
        "id": "vertical-korea"
      },
      "source": [
        "def get_model_roc_1(preds, Xs_test, names, Y_test, show_plot=True):  #this lets us run through multiple models\n",
        "    if show_plot:\n",
        "        plt.rcParams['figure.dpi'] = 70\n",
        "        plt.figure(figsize = (5,5))\n",
        "        for i in range(len(preds)):  # here, each i is one of the models\n",
        "            scores = preds[i]\n",
        "            X_test = Xs_test[i]\n",
        "            name = names[i]\n",
        "            fpr, tpr, thresholds = metrics.roc_curve(Y_test, scores)\n",
        "            plt.plot(fpr, tpr, label=name)\n",
        "            plt.plot([0, 1], [0, 1], linestyle='dashed', color='black')\n",
        "            plt.xlabel(\"False Positive Rate\")\n",
        "            plt.ylabel(\"True Positive Rate\")\n",
        "            plt.title(\"ROC Curve\")\n",
        "        plt.legend()\n",
        "        plt.tight_layout()\n",
        "    else:\n",
        "         for i in range(len(preds)):  # here, each i is one of the models\n",
        "            scores = preds[i]\n",
        "            X_test = Xs_test[i]\n",
        "            name = names[i]\n",
        "            fpr, tpr, thresholds = metrics.roc_curve(Y_test, scores)\n",
        "            print (\"AUC for {0} = {1:.3f}\".format(name, metrics.roc_auc_score(Y_test, scores)))"
      ],
      "id": "vertical-korea",
      "execution_count": 32,
      "outputs": []
    },
    {
      "cell_type": "code",
      "metadata": {
        "scrolled": true,
        "colab": {
          "base_uri": "https://localhost:8080/",
          "height": 359
        },
        "id": "sexual-lafayette",
        "outputId": "5688df1e-968c-4681-e8f0-9d9a817b03aa"
      },
      "source": [
        "get_model_roc_1([pred_glm, pred_nb, pred_CART], [X_test, X_test, X_test], [\"Logit\", 'Naive Bayes', 'CART'], y_test)"
      ],
      "id": "sexual-lafayette",
      "execution_count": 33,
      "outputs": [
        {
          "output_type": "display_data",
          "data": {
            "image/png": "[encoded data removed]",
            "text/plain": [
              "<Figure size 350x350 with 1 Axes>"
            ]
          },
          "metadata": {
            "tags": [],
            "needs_background": "light"
          }
        }
      ]
    },
    {
      "cell_type": "code",
      "metadata": {
        "id": "virtual-society",
        "outputId": "7a786dc6-e788-4ec6-9e6c-8be147104a96"
      },
      "source": [
        "get_model_roc_1([pred_glm, pred_nb, pred_CART], [X_test, X_test, X_test], [\"Logit\", 'Naive Bayes', 'CART'], y_test, False)"
      ],
      "id": "virtual-society",
      "execution_count": null,
      "outputs": [
        {
          "output_type": "stream",
          "text": [
            "AUC for Logit = 0.855\n",
            "AUC for Naive Bayes = 0.812\n",
            "AUC for CART = 0.864\n"
          ],
          "name": "stdout"
        }
      ]
    },
    {
      "cell_type": "markdown",
      "metadata": {
        "id": "legal-milton"
      },
      "source": [
        "It looks like the more sophisticated models did a better job than Naive Bayes in this case, which is not really suprising.  While NB is easy and flexible, it makes very strong assumptions about the data, which can limit its accuracy."
      ],
      "id": "legal-milton"
    }
  ]
}