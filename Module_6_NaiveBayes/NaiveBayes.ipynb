{
  "nbformat": 4,
  "nbformat_minor": 0,
  "metadata": {
    "colab": {
      "name": "6 mining_text.ipynb",
      "provenance": [],
      "collapsed_sections": []
    },
    "kernelspec": {
      "display_name": "Python 3",
      "language": "python",
      "name": "python3"
    },
    "language_info": {
      "codemirror_mode": {
        "name": "ipython",
        "version": 3
      },
      "file_extension": ".py",
      "mimetype": "text/x-python",
      "name": "python",
      "nbconvert_exporter": "python",
      "pygments_lexer": "ipython3",
      "version": "3.8.5"
    },
    "latex_envs": {
      "LaTeX_envs_menu_present": true,
      "autoclose": false,
      "autocomplete": true,
      "bibliofile": "biblio.bib",
      "cite_by": "apalike",
      "current_citInitial": 1,
      "eqLabelWithNumbers": true,
      "eqNumInitial": 1,
      "hotkeys": {
        "equation": "Ctrl-E",
        "itemize": "Ctrl-I"
      },
      "labels_anchors": false,
      "latex_user_defs": false,
      "report_style_numbering": false,
      "user_envs_cfg": false
    },
    "toc": {
      "base_numbering": 1,
      "nav_menu": {},
      "number_sections": true,
      "sideBar": true,
      "skip_h1_title": false,
      "title_cell": "Table of Contents",
      "title_sidebar": "Contents",
      "toc_cell": false,
      "toc_position": {},
      "toc_section_display": true,
      "toc_window_display": false
    },
    "varInspector": {
      "cols": {
        "lenName": 16,
        "lenType": 16,
        "lenVar": 40
      },
      "kernels_config": {
        "python": {
          "delete_cmd_postfix": "",
          "delete_cmd_prefix": "del ",
          "library": "var_list.py",
          "varRefreshCmd": "print(var_dic_list())"
        },
        "r": {
          "delete_cmd_postfix": ") ",
          "delete_cmd_prefix": "rm(",
          "library": "var_list.r",
          "varRefreshCmd": "cat(var_dic_list()) "
        }
      },
      "types_to_exclude": [
        "module",
        "function",
        "builtin_function_or_method",
        "instance",
        "_Feature"
      ],
      "window_display": false
    }
  },
  "cells": [
    {
      "cell_type": "markdown",
      "metadata": {
        "id": "BPE6qM0TaDg4"
      },
      "source": [
        "To open notebook in Colab please click below:\n",
        "<a href=\"https://colab.research.google.com/github/bwolfson2/data_biz_2021/blob/main/Module_6_NaiveBayes/NaiveBayes.ipynb\" target=\"_parent\"> <img src=\"https://colab.research.google.com/assets/colab-badge.svg\" alt=\"Open In Colab\" /> </a>'"
      ]
    },
    {
      "cell_type": "code",
      "metadata": {
        "colab": {
          "base_uri": "https://localhost:8080/"
        },
        "id": "7pPYtSaoaDhB",
        "run_control": {
          "marked": true
        },
        "outputId": "8b410dc8-9e12-463a-893e-00e0ab97e294"
      },
      "source": [
        "#If opening in colab run this cell\n",
        "!git clone https://github.com/bwolfson2/data_biz_2021\n",
        "%cd data_biz_2021/Module_6_NaiveBayes"
      ],
      "execution_count": null,
      "outputs": [
        {
          "output_type": "stream",
          "text": [
            "fatal: destination path 'foster_in_dev' already exists and is not an empty directory.\n",
            "/Users/rogermstein/Dropbox/Current-Work/_WORK/__Teaching/000-2021-Summer-NYU-Data-Science-For-Business/Material/Code/foster_in_dev/Module6_Text_NaiveBayes\n"
          ],
          "name": "stdout"
        }
      ]
    },
    {
      "cell_type": "markdown",
      "metadata": {
        "id": "jOGCfHdvaDhY"
      },
      "source": [
        "# Dealing with text and Naive Bayes\n",
        "\n",
        "\n",
        "Spring 2021 - Instructors: Roger Stein and Ben Wolfson\n",
        "\n",
        "Teaching Assistant: Ben Wolfson\n",
        "***"
      ]
    },
    {
      "cell_type": "code",
      "metadata": {
        "id": "XoTP4cq2aDhb"
      },
      "source": [
        "# Import the libraries we will be using\n",
        "import numpy as np\n",
        "import pandas as pd\n",
        "from sklearn.linear_model import LogisticRegression\n",
        "from sklearn import metrics\n",
        "from sklearn.model_selection import train_test_split\n",
        "from sklearn.feature_extraction.text import CountVectorizer\n",
        "from sklearn.feature_extraction.text import TfidfVectorizer\n",
        "\n",
        "import matplotlib.pylab as plt\n",
        "%matplotlib inline\n",
        "\n",
        "# We will want to keep track of some different roc curves, lets do that here\n",
        "tprs = []\n",
        "fprs = []\n",
        "roc_labels = []\n",
        "aucs = []"
      ],
      "execution_count": null,
      "outputs": []
    },
    {
      "cell_type": "markdown",
      "metadata": {
        "id": "J8tQAY5YaDhm"
      },
      "source": [
        "## Document classification and customer satisfaction"
      ]
    },
    {
      "cell_type": "markdown",
      "metadata": {
        "id": "0HyNJx_saDhq"
      },
      "source": [
        "You've been hired by Trans American Airlines (TAA) as a business analytics professional. One of the top priorities of TAA is  customer service. For TAA, it is of utmost importance to identify whenever customers are unhappy with the way employees have treated them. You've been hired to analyze twitter data in order to detect whenever a customer has complaints about flight attendants. Tweets suspected to be related to flight attendant complaints should be forwarded directly to the customer service department in order to track the issue and take corrective actions.  \n",
        "\n",
        "Let's start by loading the data."
      ]
    },
    {
      "cell_type": "code",
      "metadata": {
        "colab": {
          "base_uri": "https://localhost:8080/",
          "height": 574
        },
        "id": "6an9WIR1aDht",
        "outputId": "fe1fdddb-8ee3-4ec9-f28f-b3b47aca2c78"
      },
      "source": [
        "data_path = 'data/tweets.csv'\n",
        "df = pd.read_csv(data_path)\n",
        "df.head()\n"
      ],
      "execution_count": null,
      "outputs": [
        {
          "output_type": "execute_result",
          "data": {
            "text/html": [
              "<div>\n",
              "<style scoped>\n",
              "    .dataframe tbody tr th:only-of-type {\n",
              "        vertical-align: middle;\n",
              "    }\n",
              "\n",
              "    .dataframe tbody tr th {\n",
              "        vertical-align: top;\n",
              "    }\n",
              "\n",
              "    .dataframe thead th {\n",
              "        text-align: right;\n",
              "    }\n",
              "</style>\n",
              "<table border=\"1\" class=\"dataframe\">\n",
              "  <thead>\n",
              "    <tr style=\"text-align: right;\">\n",
              "      <th></th>\n",
              "      <th>tweet_id</th>\n",
              "      <th>airline_sentiment</th>\n",
              "      <th>airline_sentiment_confidence</th>\n",
              "      <th>negativereason</th>\n",
              "      <th>negativereason_confidence</th>\n",
              "      <th>name</th>\n",
              "      <th>retweet_count</th>\n",
              "      <th>text</th>\n",
              "      <th>tweet_created</th>\n",
              "      <th>user_timezone</th>\n",
              "    </tr>\n",
              "  </thead>\n",
              "  <tbody>\n",
              "    <tr>\n",
              "      <th>0</th>\n",
              "      <td>5.703060e+17</td>\n",
              "      <td>neutral</td>\n",
              "      <td>1.0000</td>\n",
              "      <td>NaN</td>\n",
              "      <td>NaN</td>\n",
              "      <td>cairdin</td>\n",
              "      <td>0</td>\n",
              "      <td>@TAA What @dhepburn said.</td>\n",
              "      <td>2/24/2015 11:35</td>\n",
              "      <td>Eastern Time (US &amp; Canada)</td>\n",
              "    </tr>\n",
              "    <tr>\n",
              "      <th>1</th>\n",
              "      <td>5.703010e+17</td>\n",
              "      <td>positive</td>\n",
              "      <td>0.3486</td>\n",
              "      <td>NaN</td>\n",
              "      <td>0.0000</td>\n",
              "      <td>jnardino</td>\n",
              "      <td>0</td>\n",
              "      <td>@TAA plus you've added commercials to the expe...</td>\n",
              "      <td>2/24/2015 11:15</td>\n",
              "      <td>Pacific Time (US &amp; Canada)</td>\n",
              "    </tr>\n",
              "    <tr>\n",
              "      <th>2</th>\n",
              "      <td>5.703010e+17</td>\n",
              "      <td>neutral</td>\n",
              "      <td>0.6837</td>\n",
              "      <td>NaN</td>\n",
              "      <td>NaN</td>\n",
              "      <td>yvonnalynn</td>\n",
              "      <td>0</td>\n",
              "      <td>@TAA I didn't today... Must mean I need to tak...</td>\n",
              "      <td>2/24/2015 11:15</td>\n",
              "      <td>Central Time (US &amp; Canada)</td>\n",
              "    </tr>\n",
              "    <tr>\n",
              "      <th>3</th>\n",
              "      <td>5.703010e+17</td>\n",
              "      <td>negative</td>\n",
              "      <td>1.0000</td>\n",
              "      <td>Bad Flight</td>\n",
              "      <td>0.7033</td>\n",
              "      <td>jnardino</td>\n",
              "      <td>0</td>\n",
              "      <td>@TAA it's really aggressive to blast obnoxious...</td>\n",
              "      <td>2/24/2015 11:15</td>\n",
              "      <td>Pacific Time (US &amp; Canada)</td>\n",
              "    </tr>\n",
              "    <tr>\n",
              "      <th>4</th>\n",
              "      <td>5.703010e+17</td>\n",
              "      <td>negative</td>\n",
              "      <td>1.0000</td>\n",
              "      <td>Can't Tell</td>\n",
              "      <td>1.0000</td>\n",
              "      <td>jnardino</td>\n",
              "      <td>0</td>\n",
              "      <td>@TAA and it's a really big bad thing about it</td>\n",
              "      <td>2/24/2015 11:14</td>\n",
              "      <td>Pacific Time (US &amp; Canada)</td>\n",
              "    </tr>\n",
              "  </tbody>\n",
              "</table>\n",
              "</div>"
            ],
            "text/plain": [
              "       tweet_id airline_sentiment  airline_sentiment_confidence  \\\n",
              "0  5.703060e+17           neutral                        1.0000   \n",
              "1  5.703010e+17          positive                        0.3486   \n",
              "2  5.703010e+17           neutral                        0.6837   \n",
              "3  5.703010e+17          negative                        1.0000   \n",
              "4  5.703010e+17          negative                        1.0000   \n",
              "\n",
              "  negativereason  negativereason_confidence        name  retweet_count  \\\n",
              "0            NaN                        NaN     cairdin              0   \n",
              "1            NaN                     0.0000    jnardino              0   \n",
              "2            NaN                        NaN  yvonnalynn              0   \n",
              "3     Bad Flight                     0.7033    jnardino              0   \n",
              "4     Can't Tell                     1.0000    jnardino              0   \n",
              "\n",
              "                                                text    tweet_created  \\\n",
              "0                          @TAA What @dhepburn said.  2/24/2015 11:35   \n",
              "1  @TAA plus you've added commercials to the expe...  2/24/2015 11:15   \n",
              "2  @TAA I didn't today... Must mean I need to tak...  2/24/2015 11:15   \n",
              "3  @TAA it's really aggressive to blast obnoxious...  2/24/2015 11:15   \n",
              "4      @TAA and it's a really big bad thing about it  2/24/2015 11:14   \n",
              "\n",
              "                user_timezone  \n",
              "0  Eastern Time (US & Canada)  \n",
              "1  Pacific Time (US & Canada)  \n",
              "2  Central Time (US & Canada)  \n",
              "3  Pacific Time (US & Canada)  \n",
              "4  Pacific Time (US & Canada)  "
            ]
          },
          "metadata": {
            "tags": []
          },
          "execution_count": 3
        }
      ]
    },
    {
      "cell_type": "code",
      "metadata": {
        "colab": {
          "base_uri": "https://localhost:8080/",
          "height": 54
        },
        "id": "C4BEHQYIvCkF",
        "outputId": "c304ed0a-ba96-46cb-b435-58534f6404d3"
      },
      "source": [
        "df['text'][3]"
      ],
      "execution_count": null,
      "outputs": [
        {
          "output_type": "execute_result",
          "data": {
            "text/plain": [
              "'@TAA it\\'s really aggressive to blast obnoxious \"entertainment\" in your guests\\' faces &amp; they have little recourse'"
            ]
          },
          "metadata": {
            "tags": []
          },
          "execution_count": 4
        }
      ]
    },
    {
      "cell_type": "markdown",
      "metadata": {
        "id": "qMugFtwxaDh1"
      },
      "source": [
        "Let's take a look at what do people complain about in Twitter."
      ]
    },
    {
      "cell_type": "code",
      "metadata": {
        "colab": {
          "base_uri": "https://localhost:8080/"
        },
        "id": "wlvVuDRXf7Ai",
        "outputId": "c74bea27-02cb-4a14-82e6-cfda7109bed3"
      },
      "source": [
        "df.shape\n"
      ],
      "execution_count": null,
      "outputs": [
        {
          "output_type": "execute_result",
          "data": {
            "text/plain": [
              "(14640, 10)"
            ]
          },
          "metadata": {
            "tags": []
          },
          "execution_count": 5
        }
      ]
    },
    {
      "cell_type": "code",
      "metadata": {
        "colab": {
          "base_uri": "https://localhost:8080/"
        },
        "id": "GMy-_VvOaDh3",
        "outputId": "c7d89e62-cbe5-486a-a8ee-61295990eb1b"
      },
      "source": [
        "df.negativereason.value_counts()"
      ],
      "execution_count": null,
      "outputs": [
        {
          "output_type": "execute_result",
          "data": {
            "text/plain": [
              "Customer Service Issue         2910\n",
              "Late Flight                    1665\n",
              "Can't Tell                     1190\n",
              "Cancelled Flight                847\n",
              "Lost Luggage                    724\n",
              "Bad Flight                      580\n",
              "Flight Booking Problems         529\n",
              "Flight Attendant Complaints     481\n",
              "longlines                       178\n",
              "Damaged Luggage                  74\n",
              "Name: negativereason, dtype: int64"
            ]
          },
          "metadata": {
            "tags": []
          },
          "execution_count": 6
        }
      ]
    },
    {
      "cell_type": "markdown",
      "metadata": {
        "id": "GdFVqVr1aDiA"
      },
      "source": [
        "We will define our target variable based on \"Flight Attendant Complaints\""
      ]
    },
    {
      "cell_type": "code",
      "metadata": {
        "colab": {
          "base_uri": "https://localhost:8080/"
        },
        "id": "Qxv3vGbLaDiD",
        "outputId": "474613e5-8161-476b-ea14-048e2ae9e099"
      },
      "source": [
        "# We'll call our target variable \"is_fa_complaint\" and keep only the text as a \"feature\" (really, the field from which we will engineer features)\n",
        "df[\"is_fa_complaint\"] = (df.negativereason == \"Flight Attendant Complaints\").astype(int)\n",
        "df = df[[\"is_fa_complaint\", \"text\"]]\n",
        "df.shape"
      ],
      "execution_count": null,
      "outputs": [
        {
          "output_type": "execute_result",
          "data": {
            "text/plain": [
              "(14640, 2)"
            ]
          },
          "metadata": {
            "tags": []
          },
          "execution_count": 7
        }
      ]
    },
    {
      "cell_type": "markdown",
      "metadata": {
        "id": "PXKTkHj3aDiN"
      },
      "source": [
        "Let's take a look at the percentage of tweets related to complaints about flight attendants."
      ]
    },
    {
      "cell_type": "code",
      "metadata": {
        "colab": {
          "base_uri": "https://localhost:8080/"
        },
        "id": "P8UILyBmaDiP",
        "outputId": "f6c8ad06-716f-402d-966c-7a210b0e468e"
      },
      "source": [
        "df['is_fa_complaint'].mean()"
      ],
      "execution_count": null,
      "outputs": [
        {
          "output_type": "execute_result",
          "data": {
            "text/plain": [
              "0.032855191256830604"
            ]
          },
          "metadata": {
            "tags": []
          },
          "execution_count": 8
        }
      ]
    },
    {
      "cell_type": "markdown",
      "metadata": {
        "id": "HJVqmlN3aDiX"
      },
      "source": [
        "Here are some examples of the tweets."
      ]
    },
    {
      "cell_type": "code",
      "metadata": {
        "colab": {
          "base_uri": "https://localhost:8080/"
        },
        "id": "CfmX69IwaDiZ",
        "outputId": "ee7d6c7d-2be8-4fdb-91a7-d4714517e715"
      },
      "source": [
        "print(\"Flagged as FA complaints:\")\n",
        "print(df[df.is_fa_complaint == 1].text.values[0:5])\n",
        "\n",
        "print(\"\\nNot flagged as FA complaint:\")\n",
        "print(df[df.is_fa_complaint == 0].text.values[0:5])"
      ],
      "execution_count": null,
      "outputs": [
        {
          "output_type": "stream",
          "text": [
            "Flagged as FA complaints:\n",
            "['@TAA your airline is awesome but your lax loft needs to step up its game. $40 for dirty tables and floors? http://t.co/hy0VrfhjHt'\n",
            " \"@TAA You'd think paying an extra $100 bucks RT for luggage might afford you hiring an extra hand at @sfo #lame\"\n",
            " '@TAA  for all my flight stuff wrong and did nothing about it. Had #worst #flight ever'\n",
            " '@TAA husband and I ordered three drinks via my screen and they never came. Awesome!'\n",
            " '@TAA All of group E was told there was no more room in the bins. when I got on the plane, was room for at least 4 bags in my row!']\n",
            "\n",
            "Not flagged as FA complaint:\n",
            "['@TAA What @dhepburn said.'\n",
            " \"@TAA plus you've added commercials to the experience... tacky.\"\n",
            " \"@TAA I didn't today... Must mean I need to take another trip!\"\n",
            " '@TAA it\\'s really aggressive to blast obnoxious \"entertainment\" in your guests\\' faces &amp; they have little recourse'\n",
            " \"@TAA and it's a really big bad thing about it\"]\n"
          ],
          "name": "stdout"
        }
      ]
    },
    {
      "cell_type": "markdown",
      "metadata": {
        "id": "g-ehwyKkaDig"
      },
      "source": [
        "Since we are going to do some predictive modeling, we should split our data into a training and a test set."
      ]
    },
    {
      "cell_type": "code",
      "metadata": {
        "id": "FhDqSSwEaDii"
      },
      "source": [
        "X = df['text']\n",
        "Y = df['is_fa_complaint']\n",
        "\n",
        "X_train, X_test, Y_train, Y_test = train_test_split(X, Y, test_size=.2, random_state=42)"
      ],
      "execution_count": null,
      "outputs": []
    },
    {
      "cell_type": "markdown",
      "metadata": {
        "id": "S9EaYDXRaDit"
      },
      "source": [
        "### Text to features\n",
        "How can we turn the large amount of text for each record into useful features?\n",
        "\n",
        "\n",
        "#### Binary representation\n",
        "One way is to create a matrix that uses each word as a feature and keeps track of whether or not a word appears in a document/record. You can do this in sklearn with a `CountVectorizer()` and setting `binary` to `true`. The process is very similar to how you fit a model: you will fit a `CounterVectorizer()`. This will figure out what words exist in your data.  (For details on how `CountVectorizor` works, you can check out this link for a quick worked out example. https://towardsdatascience.com/basics-of-countvectorizer-e26677900f9c .)"
      ]
    },
    {
      "cell_type": "code",
      "metadata": {
        "colab": {
          "base_uri": "https://localhost:8080/"
        },
        "id": "lrjKfevpaDix",
        "outputId": "7ce7a4a4-1afb-4e6f-8e57-3a91e9b10967"
      },
      "source": [
        "binary_vectorizer = CountVectorizer(binary=True)\n",
        "binary_vectorizer.fit(X_train)"
      ],
      "execution_count": null,
      "outputs": [
        {
          "output_type": "execute_result",
          "data": {
            "text/plain": [
              "CountVectorizer(binary=True)"
            ]
          },
          "metadata": {
            "tags": []
          },
          "execution_count": 11
        }
      ]
    },
    {
      "cell_type": "markdown",
      "metadata": {
        "id": "qFZwIwwWaDi3"
      },
      "source": [
        "Let's look at the vocabulary the `CountVectorizer()` learned."
      ]
    },
    {
      "cell_type": "code",
      "metadata": {
        "colab": {
          "base_uri": "https://localhost:8080/"
        },
        "id": "1CcpjAukaDi5",
        "outputId": "160bebd2-b5ff-4a0b-fa07-22aad85e375d"
      },
      "source": [
        "vocabulary_list = list(zip( binary_vectorizer.vocabulary_.keys(), binary_vectorizer.vocabulary_.values()) )\n",
        "\n",
        "vocabulary_list[0:10]"
      ],
      "execution_count": null,
      "outputs": [
        {
          "output_type": "execute_result",
          "data": {
            "text/plain": [
              "[('taa', 11423),\n",
              " ('you', 13183),\n",
              " ('are', 2113),\n",
              " ('offering', 8578),\n",
              " ('us', 12427),\n",
              " ('rooms', 10179),\n",
              " ('for', 5391),\n",
              " ('32', 674),\n",
              " ('people', 8994),\n",
              " ('fail', 5021)]"
            ]
          },
          "metadata": {
            "tags": []
          },
          "execution_count": 12
        }
      ]
    },
    {
      "cell_type": "markdown",
      "metadata": {
        "id": "5QVLEmreaDjB"
      },
      "source": [
        "Now that we know what words are in the data, we can transform our text into a clean matrix. Simply .transform() the raw data using our fitted CountVectorizer(). You will do this for the training and test data. What do you think happens if there are new words in the test data that were not seen in the training data?"
      ]
    },
    {
      "cell_type": "code",
      "metadata": {
        "id": "SZdHAgoHaDjE"
      },
      "source": [
        "X_train_binary = binary_vectorizer.transform(X_train)\n",
        "X_test_binary = binary_vectorizer.transform(X_test)"
      ],
      "execution_count": null,
      "outputs": []
    },
    {
      "cell_type": "markdown",
      "metadata": {
        "id": "IhsFILAhaDjL"
      },
      "source": [
        "We can take a look at our new `X_test_binary`."
      ]
    },
    {
      "cell_type": "code",
      "metadata": {
        "colab": {
          "base_uri": "https://localhost:8080/"
        },
        "id": "xrFT2qgmaDjN",
        "outputId": "03fa4116-44aa-499b-8910-79e0a7f5bd1f"
      },
      "source": [
        "X_test_binary"
      ],
      "execution_count": null,
      "outputs": [
        {
          "output_type": "execute_result",
          "data": {
            "text/plain": [
              "<2928x13271 sparse matrix of type '<class 'numpy.int64'>'\n",
              "\twith 45588 stored elements in Compressed Sparse Row format>"
            ]
          },
          "metadata": {
            "tags": []
          },
          "execution_count": 14
        }
      ]
    },
    {
      "cell_type": "code",
      "metadata": {
        "colab": {
          "base_uri": "https://localhost:8080/"
        },
        "id": "x2M7l7ERgRpP",
        "outputId": "60290cd5-f77d-4cc7-f475-34fcd41d5a05"
      },
      "source": [
        "X_test_binary.shape"
      ],
      "execution_count": null,
      "outputs": [
        {
          "output_type": "execute_result",
          "data": {
            "text/plain": [
              "(2928, 13271)"
            ]
          },
          "metadata": {
            "tags": []
          },
          "execution_count": 15
        }
      ]
    },
    {
      "cell_type": "markdown",
      "metadata": {
        "id": "Ia3glHapaDjU"
      },
      "source": [
        "Sparse matrix? Where is our data?\n",
        "\n",
        "If you look at the output above, you will see that it is being stored in a *sparse* matrix (as opposed to the typical dense matrix) that is 3k rows long and 13k columns. The rows here are records in the original data and the columns are words. Given the shape, this means there are 39m cells that should have values. However, from the above, we can see that only 46k cells (~0.12%) of the cells have values! Why is this?\n",
        "\n",
        "To save space, sklearn uses a sparse matrix. This means that only values that are not zero are stored. This saves a ton of space! This also means that visualizing the data is a little trickier. Let's look at a very small chunk."
      ]
    },
    {
      "cell_type": "code",
      "metadata": {
        "colab": {
          "base_uri": "https://localhost:8080/"
        },
        "id": "CA_LkpIKaDjW",
        "outputId": "6b511c35-3535-4e75-8497-55420e45e021"
      },
      "source": [
        "# Recall that 13183 is the index for \"you\"\n",
        "X_test_binary[0:20, 13180:13200].todense()"
      ],
      "execution_count": null,
      "outputs": [
        {
          "output_type": "execute_result",
          "data": {
            "text/plain": [
              "matrix([[0, 0, 0, 1, 0, 0, 0, 0, 0, 0, 0, 0, 0, 0, 0, 0, 0, 0, 0, 0],\n",
              "        [0, 0, 0, 0, 0, 0, 0, 0, 0, 0, 0, 0, 0, 0, 0, 0, 0, 0, 0, 0],\n",
              "        [0, 0, 0, 0, 0, 0, 0, 0, 0, 0, 1, 0, 0, 0, 0, 0, 0, 0, 0, 0],\n",
              "        [0, 0, 0, 0, 0, 0, 0, 0, 0, 0, 0, 0, 0, 0, 0, 0, 0, 0, 0, 0],\n",
              "        [0, 0, 0, 0, 0, 0, 0, 0, 0, 0, 0, 0, 0, 0, 0, 0, 0, 0, 0, 0],\n",
              "        [0, 0, 0, 0, 0, 0, 0, 0, 0, 0, 1, 0, 0, 0, 0, 0, 0, 0, 0, 0],\n",
              "        [0, 0, 0, 1, 0, 0, 0, 0, 0, 0, 0, 0, 0, 0, 0, 0, 0, 0, 0, 0],\n",
              "        [0, 0, 0, 1, 0, 0, 0, 0, 0, 0, 0, 0, 0, 0, 0, 0, 0, 0, 0, 0],\n",
              "        [0, 0, 0, 0, 0, 0, 0, 0, 0, 0, 0, 0, 0, 0, 0, 0, 0, 0, 0, 0],\n",
              "        [0, 0, 0, 0, 0, 0, 0, 0, 0, 0, 0, 0, 0, 0, 0, 0, 0, 0, 0, 0],\n",
              "        [0, 0, 0, 0, 0, 0, 0, 0, 0, 0, 0, 0, 0, 0, 0, 0, 0, 0, 0, 0],\n",
              "        [0, 0, 0, 1, 0, 0, 0, 0, 0, 0, 0, 0, 0, 0, 0, 0, 0, 0, 0, 0],\n",
              "        [0, 0, 0, 0, 0, 0, 0, 0, 0, 0, 0, 0, 0, 0, 0, 0, 0, 0, 0, 0],\n",
              "        [0, 0, 0, 0, 0, 0, 0, 0, 0, 0, 0, 0, 0, 0, 0, 0, 0, 0, 0, 0],\n",
              "        [0, 0, 0, 0, 0, 0, 0, 0, 0, 0, 0, 0, 0, 0, 0, 0, 0, 0, 0, 0],\n",
              "        [0, 0, 0, 0, 0, 0, 0, 0, 0, 0, 0, 0, 0, 0, 0, 0, 0, 0, 0, 0],\n",
              "        [0, 0, 0, 0, 0, 0, 0, 0, 0, 0, 0, 0, 0, 0, 0, 0, 0, 0, 0, 0],\n",
              "        [0, 0, 0, 0, 0, 0, 0, 0, 0, 0, 0, 0, 0, 0, 0, 0, 0, 0, 0, 0],\n",
              "        [0, 0, 0, 0, 0, 0, 0, 0, 0, 0, 1, 0, 0, 0, 0, 0, 0, 0, 0, 0],\n",
              "        [0, 0, 0, 0, 0, 0, 0, 0, 0, 0, 0, 0, 0, 0, 0, 0, 0, 0, 0, 0]])"
            ]
          },
          "metadata": {
            "tags": []
          },
          "execution_count": 16
        }
      ]
    },
    {
      "cell_type": "markdown",
      "metadata": {
        "id": "gRRQtvk1aDjc"
      },
      "source": [
        "#### Applying a model\n",
        "Now that we have a ton of features (one for every word!) let's try using a logistic regression model to predict which tweets are about flight attendant complaints."
      ]
    },
    {
      "cell_type": "code",
      "metadata": {
        "colab": {
          "base_uri": "https://localhost:8080/",
          "height": 421
        },
        "id": "wOm9gaMqaDje",
        "outputId": "0e090958-85aa-40bb-a28e-0baeb535626b"
      },
      "source": [
        "def get_model_roc_2(models, Xs_test, names, Y_test):  #this lets us run through multiple models\n",
        "    plt.rcParams['figure.dpi'] = 100\n",
        "    for i in range(len(models)):  # here, each i is one of the models\n",
        "        model = models[i]\n",
        "        X_test = Xs_test[i]\n",
        "        name = names[i]\n",
        "        probs = model.predict_proba(X_test)[:,1]\n",
        "        fpr, tpr, thresholds = metrics.roc_curve(Y_test, probs)\n",
        "        plt.plot(fpr, tpr, label=name)\n",
        "        plt.plot([0, 1], [0, 1], linestyle='dashed', color='black')\n",
        "        plt.xlabel(\"False Positive Rate\")\n",
        "        plt.ylabel(\"True Positive Rate\")\n",
        "        plt.title(\"ROC Curve\")\n",
        "        print (\"AUC for {0} = {1:.3f}\".format(name, metrics.roc_auc_score(Y_test, probs)))\n",
        "    plt.legend()\n",
        "    plt.show()\n",
        "\n",
        "        \n",
        "model_binary = LogisticRegression(solver='liblinear')\n",
        "model_binary.fit(X_train_binary, Y_train)\n",
        "get_model_roc_2([model_binary], [X_test_binary], ['binary'], Y_test)"
      ],
      "execution_count": null,
      "outputs": [
        {
          "output_type": "stream",
          "text": [
            "AUC for binary = 0.834\n"
          ],
          "name": "stdout"
        },
        {
          "output_type": "display_data",
          "data": {
            "image/png": "[encoded data removed]",
            "text/plain": [
              "<Figure size 600x400 with 1 Axes>"
            ]
          },
          "metadata": {
            "tags": [],
            "needs_background": "light"
          }
        }
      ]
    },
    {
      "cell_type": "markdown",
      "metadata": {
        "id": "qigohEb7aDjm"
      },
      "source": [
        "#### Feature engineering alternative: Counts instead of binary\n",
        "Instead of using a 0 or 1 to represent the occurence of a word, we can use the actual counts. We do this the same way as before, but now we leave `binary` set to `false` (the default value)."
      ]
    },
    {
      "cell_type": "code",
      "metadata": {
        "colab": {
          "base_uri": "https://localhost:8080/",
          "height": 439
        },
        "id": "fvaoF_F0aDjo",
        "outputId": "0381277f-5872-4b4f-9f7f-bbf25ac0ebba"
      },
      "source": [
        "# Fit a counter\n",
        "count_vectorizer = CountVectorizer()\n",
        "count_vectorizer.fit(X_train)\n",
        "\n",
        "# Transform to counter\n",
        "X_train_counts = count_vectorizer.transform(X_train)\n",
        "X_test_counts = count_vectorizer.transform(X_test)\n",
        "\n",
        "# Model\n",
        "model_counts = LogisticRegression(solver='liblinear')\n",
        "model_counts.fit(X_train_counts, Y_train)\n",
        "\n",
        "get_model_roc_2([model_binary, model_counts], [X_test_binary, X_test_counts], ['binary', 'counts'], Y_test)"
      ],
      "execution_count": null,
      "outputs": [
        {
          "output_type": "stream",
          "text": [
            "AUC for binary = 0.834\n",
            "AUC for counts = 0.831\n"
          ],
          "name": "stdout"
        },
        {
          "output_type": "display_data",
          "data": {
            "image/png": "[encoded data removed]",
            "text/plain": [
              "<Figure size 600x400 with 1 Axes>"
            ]
          },
          "metadata": {
            "tags": [],
            "needs_background": "light"
          }
        }
      ]
    },
    {
      "cell_type": "markdown",
      "metadata": {
        "id": "bFOYPcXtaDju"
      },
      "source": [
        "#### Feature engineering alternative: tf-idf\n",
        "Another popular technique when dealing with text is to use the term frequency - inverse document frequency (tf-idf) measure instead of just counts as the feature values (see the book)."
      ]
    },
    {
      "cell_type": "code",
      "metadata": {
        "colab": {
          "base_uri": "https://localhost:8080/",
          "height": 439
        },
        "id": "Clx7EIPmaDjw",
        "outputId": "64de786b-9a37-401c-ed66-a534b45d340c"
      },
      "source": [
        "# Fit a counter\n",
        "tfidf_vectorizer = TfidfVectorizer()\n",
        "tfidf_vectorizer.fit(X_train)\n",
        "\n",
        "# Transform to a counter\n",
        "X_train_tfidf = tfidf_vectorizer.transform(X_train)\n",
        "X_test_tfidf = tfidf_vectorizer.transform(X_test)\n",
        "\n",
        "# Model\n",
        "model_tfidf = LogisticRegression(solver='liblinear')\n",
        "model_tfidf.fit(X_train_tfidf, Y_train)\n",
        "\n",
        "get_model_roc_2([model_binary, model_tfidf], [X_test_binary, X_test_tfidf], ['binary', 'tf-idf'], Y_test)"
      ],
      "execution_count": null,
      "outputs": [
        {
          "output_type": "stream",
          "text": [
            "AUC for binary = 0.834\n",
            "AUC for tf-idf = 0.856\n"
          ],
          "name": "stdout"
        },
        {
          "output_type": "display_data",
          "data": {
            "image/png": "[encoded data removed]",
            "text/plain": [
              "<Figure size 600x400 with 1 Axes>"
            ]
          },
          "metadata": {
            "tags": [],
            "needs_background": "light"
          }
        }
      ]
    },
    {
      "cell_type": "markdown",
      "metadata": {
        "id": "0Ay1-lPBaDj4"
      },
      "source": [
        "#### Even more feature engineering alternatives\n",
        "\n",
        "The `CountVectorizer()` and `TfidfVectorizer()` functions have many options. You can restrict the words you would like in the vocabulary. You can add n-grams. You can use stop word lists. Which options you should use generally depend on the type of data you are dealing with, and some trial and error on your part."
      ]
    },
    {
      "cell_type": "code",
      "metadata": {
        "colab": {
          "base_uri": "https://localhost:8080/",
          "height": 439
        },
        "id": "XuKviO7-aDj5",
        "outputId": "7fc366d3-3850-4010-fad2-0f1af79e1961"
      },
      "source": [
        "# Fit a counter\n",
        "ngram_vectorizer = TfidfVectorizer(stop_words='english', ngram_range=(1, 2))\n",
        "ngram_vectorizer.fit(X_train)\n",
        "\n",
        "# Transform to a counter\n",
        "X_train_ngram = ngram_vectorizer.transform(X_train)\n",
        "X_test_ngram = ngram_vectorizer.transform(X_test)\n",
        "\n",
        "# Model\n",
        "model_ngram = LogisticRegression(solver='liblinear')\n",
        "model_ngram.fit(X_train_ngram, Y_train)\n",
        "\n",
        "get_model_roc_2([model_binary, model_ngram], [X_test_binary, X_test_ngram], ['binary', 'ngram'], Y_test)"
      ],
      "execution_count": null,
      "outputs": [
        {
          "output_type": "stream",
          "text": [
            "AUC for binary = 0.834\n",
            "AUC for ngram = 0.863\n"
          ],
          "name": "stdout"
        },
        {
          "output_type": "display_data",
          "data": {
            "image/png": "[encoded data removed]",
            "text/plain": [
              "<Figure size 600x400 with 1 Axes>"
            ]
          },
          "metadata": {
            "tags": [],
            "needs_background": "light"
          }
        }
      ]
    },
    {
      "cell_type": "markdown",
      "metadata": {
        "id": "0qopawLeaDj_"
      },
      "source": [
        "### Modeling with Naive Bayes\n",
        "\n",
        "So far we have been exposed to tree classifiers and logistic regression in class. Now, it's time for another popular modeling technique of supervised learning (especially in text classification): the Naive Bayes (NB) classifier. In particular, we are using a Bernoulli Naive Bayes (BNB) for our binary classification. (Bernoulli NB is the model described in the book; there are other versions of NB -- see below.)\n",
        "\n",
        "As described in your text, the Naive Bayes model is a **probabilistic approach which assumes conditional independence between features** (in this case, each word/ngram is a feature, the conditioning is on the true class). It assigns class labels (e.g. is_fa_complaint = 1 or is_fa_complaint = 0). In other words, Naive Bayes models the probabilities of the presence of each _word_, given that we have a flight attendant complaint, and given that we do not have a flight attendant complaint.  Then it combines them using Bayes Theorem (again, as described in the book).\n",
        "\n",
        "Using this model in sklearn works just the same as the others we've seen ([More details here..](http://scikit-learn.org/stable/modules/naive_bayes.html))\n",
        "\n",
        "- Choose the model\n",
        "- Fit the model (Train)\n",
        "- Predict with the model (Train or Test or Use data)"
      ]
    },
    {
      "cell_type": "code",
      "metadata": {
        "colab": {
          "base_uri": "https://localhost:8080/"
        },
        "id": "4wPt2PqXaDkC",
        "outputId": "210e56f9-e0dd-422f-f744-77184d067d6f"
      },
      "source": [
        "from sklearn.naive_bayes import BernoulliNB\n",
        "\n",
        "model_nb = BernoulliNB()\n",
        "model_nb.fit(X_train_binary, Y_train)"
      ],
      "execution_count": null,
      "outputs": [
        {
          "output_type": "execute_result",
          "data": {
            "text/plain": [
              "BernoulliNB()"
            ]
          },
          "metadata": {
            "tags": []
          },
          "execution_count": 21
        }
      ]
    },
    {
      "cell_type": "code",
      "metadata": {
        "id": "zOf1jrazQI4q",
        "outputId": "16012d91-aabd-42e5-d03e-3824bcfd8b67"
      },
      "source": [
        "priors = np.exp(model_nb.class_log_prior_)\n",
        "print('Prior probabilities: ',priors )\n",
        "print()\n",
        "y     = Y_test"
      ],
      "execution_count": null,
      "outputs": [
        {
          "output_type": "stream",
          "text": [
            "Prior probabilities:  [0.96567623 0.03432377]\n",
            "\n"
          ],
          "name": "stdout"
        }
      ]
    },
    {
      "cell_type": "code",
      "metadata": {
        "colab": {
          "base_uri": "https://localhost:8080/",
          "height": 439
        },
        "id": "bo0O0Tm3aDkJ",
        "outputId": "ee06ab08-a95c-47fb-9046-b16c33fbf095"
      },
      "source": [
        "get_model_roc_2([model_binary, model_nb], [X_test_binary, X_test_binary], ['binary', 'naive-bayes'], Y_test)"
      ],
      "execution_count": null,
      "outputs": [
        {
          "output_type": "stream",
          "text": [
            "AUC for binary = 0.834\n",
            "AUC for naive-bayes = 0.802\n"
          ],
          "name": "stdout"
        },
        {
          "output_type": "display_data",
          "data": {
            "image/png": "[encoded data removed]",
            "text/plain": [
              "<Figure size 600x400 with 1 Axes>"
            ]
          },
          "metadata": {
            "tags": [],
            "needs_background": "light"
          }
        }
      ]
    },
    {
      "cell_type": "markdown",
      "metadata": {
        "id": "ci0kvaY3QI4t"
      },
      "source": [
        "And, if we would like to compare, we can look at all the models together..."
      ]
    },
    {
      "cell_type": "code",
      "metadata": {
        "id": "M_Ou2iIYQI4t",
        "outputId": "b06fce1f-5706-4007-b687-4e58a3dab1a2"
      },
      "source": [
        "get_model_roc_2([model_binary, model_nb,model_ngram,model_tfidf], [X_test_binary, X_test_binary, X_test_ngram, X_test_tfidf], ['binary', 'naive-bayes', 'ngram','tfidf'], Y_test)"
      ],
      "execution_count": null,
      "outputs": [
        {
          "output_type": "stream",
          "text": [
            "AUC for binary = 0.834\n",
            "AUC for naive-bayes = 0.802\n",
            "AUC for ngram = 0.863\n",
            "AUC for tfidf = 0.856\n"
          ],
          "name": "stdout"
        },
        {
          "output_type": "display_data",
          "data": {
            "image/png": "[encoded data removed]",
            "text/plain": [
              "<Figure size 600x400 with 1 Axes>"
            ]
          },
          "metadata": {
            "tags": [],
            "needs_background": "light"
          }
        }
      ]
    },
    {
      "cell_type": "markdown",
      "metadata": {
        "id": "wSZd088zaDkH"
      },
      "source": [
        "The past few weeks we have seen that many of the models we are using have different complexity control parameters that can be tweaked. In naive Bayes, the parameter that is typically tuned is the Laplace smoothing value **`alpha`**.\n",
        "\n",
        "Also, there are other versions of naive Bayes:\n",
        "\n",
        "1. **Multinomial naive Bayes (MNB):** This model is designed for count features and not just binary features. Sometimes MNB is used with binary presence/absence variables anyway (like word presence), even though that violates the model assumptions, because in practice it works well.\n",
        "2. **Gaussian Naive Bayes (GNB):** GNB models the likelihood of the features using a Gaussian distribution--and thus we can use it for continuous features.  Sometimes GNB and Bernoulli NB are combined when one has features of mixed types.  \n",
        "\n",
        "You can try out all of these alternatives!"
      ]
    },
    {
      "cell_type": "code",
      "metadata": {
        "id": "L29OXz_3dHft",
        "outputId": "3a151dbc-de19-4a5d-c766-aec440e4f7bc"
      },
      "source": [
        "model_nb.__dir__()\n"
      ],
      "execution_count": null,
      "outputs": [
        {
          "output_type": "execute_result",
          "data": {
            "text/plain": [
              "['alpha',\n",
              " 'binarize',\n",
              " 'fit_prior',\n",
              " 'class_prior',\n",
              " 'n_features_in_',\n",
              " 'n_features_',\n",
              " 'classes_',\n",
              " 'class_count_',\n",
              " 'feature_count_',\n",
              " 'feature_log_prob_',\n",
              " 'class_log_prior_',\n",
              " '__module__',\n",
              " '__doc__',\n",
              " '__init__',\n",
              " '_check_X',\n",
              " '_check_X_y',\n",
              " '_count',\n",
              " '_update_feature_log_prob',\n",
              " '_joint_log_likelihood',\n",
              " '__abstractmethods__',\n",
              " '_abc_impl',\n",
              " '_update_class_log_prior',\n",
              " '_check_alpha',\n",
              " 'partial_fit',\n",
              " 'fit',\n",
              " '_init_counters',\n",
              " '_get_coef',\n",
              " '_get_intercept',\n",
              " 'coef_',\n",
              " 'intercept_',\n",
              " '_more_tags',\n",
              " 'predict',\n",
              " 'predict_log_proba',\n",
              " 'predict_proba',\n",
              " '_estimator_type',\n",
              " 'score',\n",
              " '__dict__',\n",
              " '__weakref__',\n",
              " '__repr__',\n",
              " '__hash__',\n",
              " '__str__',\n",
              " '__getattribute__',\n",
              " '__setattr__',\n",
              " '__delattr__',\n",
              " '__lt__',\n",
              " '__le__',\n",
              " '__eq__',\n",
              " '__ne__',\n",
              " '__gt__',\n",
              " '__ge__',\n",
              " '__new__',\n",
              " '__reduce_ex__',\n",
              " '__reduce__',\n",
              " '__subclasshook__',\n",
              " '__init_subclass__',\n",
              " '__format__',\n",
              " '__sizeof__',\n",
              " '__dir__',\n",
              " '__class__',\n",
              " '_get_param_names',\n",
              " 'get_params',\n",
              " 'set_params',\n",
              " '__getstate__',\n",
              " '__setstate__',\n",
              " '_get_tags',\n",
              " '_check_n_features',\n",
              " '_validate_data',\n",
              " '_repr_html_',\n",
              " '_repr_html_inner',\n",
              " '_repr_mimebundle_']"
            ]
          },
          "metadata": {
            "tags": []
          },
          "execution_count": 24
        }
      ]
    }
  ]
}